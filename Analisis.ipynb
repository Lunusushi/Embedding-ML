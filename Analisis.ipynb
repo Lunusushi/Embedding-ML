{
 "cells": [
  {
   "cell_type": "code",
   "execution_count": null,
   "metadata": {},
   "outputs": [],
   "source": [
    "import pandas as pd\n",
    "import matplotlib\n",
    "import tensorflow as tf\n",
    "from sklearn.model_selection import train_test_split\n",
    "from tensorflow.keras.preprocessing.sequence import pad_sequences\n"
   ]
  },
  {
   "cell_type": "code",
   "execution_count": null,
   "metadata": {},
   "outputs": [],
   "source": [
    "corpus=[]\n",
    "target=[]\n",
    "edad=[]\n",
    "sexo=[]\n",
    "severidad=[]\n",
    "archivo=open(\"datasets/dataset_elpino.csv\",encoding=\"utf-8\") #pon aqui la ruta de tu dataset siendo el root donde se encuentra este codigo\n",
    "header=archivo.readline().strip().split(\";\")\n",
    "features=[]\n",
    "for col in header:\n",
    "    col=col.split(\"-\")[0].strip()\n",
    "    if col.startswith(\"Diag\") or col.startswith(\"Proc\"):\n",
    "        col=col.split(\" \")\n",
    "        col=col[0]+col[1]\n",
    "    features.append(col)\n",
    "for linea in archivo:\n",
    "    row=[]\n",
    "    linea=linea.strip().split(\";\")\n",
    "    for i in range(len(linea)):\n",
    "        col=linea[i].split(\"-\")[0].strip()\n",
    "        if i==67:\n",
    "            grd=col\n",
    "            #target.append(grd[-1])\n",
    "            target.append(grd)\n",
    "        elif i==66:\n",
    "            sexo.append(1 if col==\"Mujer\" else 0)\n",
    "        elif i==65:\n",
    "            edad.append(int(col))\n",
    "        else:\n",
    "            row.append(col)\n",
    "    corpus.append(row)\n",
    "\n",
    "archivo.close()"
   ]
  },
  {
   "cell_type": "code",
   "execution_count": 4,
   "metadata": {},
   "outputs": [],
   "source": [
    "df=pd.DataFrame(corpus,columns=features[:-3])\n",
    "df[\"GRD\"]=target"
   ]
  },
  {
   "cell_type": "code",
   "execution_count": null,
   "metadata": {},
   "outputs": [],
   "source": [
    "#Junta todas las columnas de codigos en una sola lista\n",
    "code_columns = [col for col in df.columns if col.startswith(\"Diag\") or col.startswith(\"Proc\")]\n",
    "\n",
    "#Aplanar los codigos para construir el vocabulario\n",
    "all_codes = df[code_columns].values.flatten()\n",
    "unique_codes = pd.Series(all_codes).dropna().unique().tolist()"
   ]
  },
  {
   "cell_type": "code",
   "execution_count": 41,
   "metadata": {},
   "outputs": [],
   "source": [
    "#Creacion del vocabulario\n",
    "lookup_layer = tf.keras.layers.StringLookup(vocabulary=unique_codes, oov_token=\"[UNK]\")\n",
    "\n",
    "#Codigos a tensores de string y aplica StringLookup\n",
    "X_codes_str = tf.constant(df[code_columns].astype(str).values)\n",
    "X_codes_idx = lookup_layer(X_codes_str)\n",
    "\n",
    "#Padding\n",
    "X_padded = pad_sequences(X_codes_idx.numpy(), padding='post')\n",
    "\n",
    "#Codifica los GRD como enteros\n",
    "grd_lookup = tf.keras.layers.StringLookup(oov_token=\"[UNK]\")\n",
    "grd_lookup.adapt(df[\"GRD\"])\n",
    "y = grd_lookup(df[\"GRD\"])"
   ]
  },
  {
   "cell_type": "code",
   "execution_count": 43,
   "metadata": {},
   "outputs": [],
   "source": [
    "#Separar datos\n",
    "X_train, X_test, y_train, y_test = train_test_split(X_padded, y.numpy(), test_size=0.3, random_state=42)\n",
    "\n",
    "\n",
    "#Define modelo en Keras\n",
    "vocab_size = lookup_layer.vocabulary_size()\n",
    "num_classes = grd_lookup.vocabulary_size()\n",
    "\n",
    "model = tf.keras.Sequential([\n",
    "    tf.keras.layers.Embedding(input_dim=vocab_size, output_dim=64),\n",
    "    tf.keras.layers.LSTM(64),\n",
    "    tf.keras.layers.Dense(64, activation='relu'),\n",
    "    tf.keras.layers.Dense(num_classes, activation='softmax')\n",
    "])\n",
    "\n",
    "model.compile(optimizer='adam', loss='sparse_categorical_crossentropy', metrics=['accuracy'])"
   ]
  },
  {
   "cell_type": "code",
   "execution_count": 45,
   "metadata": {},
   "outputs": [
    {
     "name": "stdout",
     "output_type": "stream",
     "text": [
      "Epoch 1/30\n",
      "\u001b[1m160/160\u001b[0m \u001b[32m━━━━━━━━━━━━━━━━━━━━\u001b[0m\u001b[37m\u001b[0m \u001b[1m3s\u001b[0m 16ms/step - accuracy: 0.8394 - loss: 0.5977 - val_accuracy: 0.6109 - val_loss: 3.1486\n",
      "Epoch 2/30\n",
      "\u001b[1m160/160\u001b[0m \u001b[32m━━━━━━━━━━━━━━━━━━━━\u001b[0m\u001b[37m\u001b[0m \u001b[1m3s\u001b[0m 16ms/step - accuracy: 0.8476 - loss: 0.5777 - val_accuracy: 0.6262 - val_loss: 3.0857\n",
      "Epoch 3/30\n",
      "\u001b[1m160/160\u001b[0m \u001b[32m━━━━━━━━━━━━━━━━━━━━\u001b[0m\u001b[37m\u001b[0m \u001b[1m3s\u001b[0m 16ms/step - accuracy: 0.8587 - loss: 0.5229 - val_accuracy: 0.6283 - val_loss: 3.0658\n",
      "Epoch 4/30\n",
      "\u001b[1m160/160\u001b[0m \u001b[32m━━━━━━━━━━━━━━━━━━━━\u001b[0m\u001b[37m\u001b[0m \u001b[1m3s\u001b[0m 17ms/step - accuracy: 0.8709 - loss: 0.4739 - val_accuracy: 0.6304 - val_loss: 3.1421\n",
      "Epoch 5/30\n",
      "\u001b[1m160/160\u001b[0m \u001b[32m━━━━━━━━━━━━━━━━━━━━\u001b[0m\u001b[37m\u001b[0m \u001b[1m3s\u001b[0m 16ms/step - accuracy: 0.8817 - loss: 0.4453 - val_accuracy: 0.6365 - val_loss: 3.2179\n",
      "Epoch 6/30\n",
      "\u001b[1m160/160\u001b[0m \u001b[32m━━━━━━━━━━━━━━━━━━━━\u001b[0m\u001b[37m\u001b[0m \u001b[1m3s\u001b[0m 16ms/step - accuracy: 0.8880 - loss: 0.4099 - val_accuracy: 0.6333 - val_loss: 3.2742\n",
      "Epoch 7/30\n",
      "\u001b[1m160/160\u001b[0m \u001b[32m━━━━━━━━━━━━━━━━━━━━\u001b[0m\u001b[37m\u001b[0m \u001b[1m3s\u001b[0m 17ms/step - accuracy: 0.8919 - loss: 0.4057 - val_accuracy: 0.6409 - val_loss: 3.2590\n",
      "Epoch 8/30\n",
      "\u001b[1m160/160\u001b[0m \u001b[32m━━━━━━━━━━━━━━━━━━━━\u001b[0m\u001b[37m\u001b[0m \u001b[1m3s\u001b[0m 19ms/step - accuracy: 0.9114 - loss: 0.3461 - val_accuracy: 0.6271 - val_loss: 3.3209\n",
      "Epoch 9/30\n",
      "\u001b[1m160/160\u001b[0m \u001b[32m━━━━━━━━━━━━━━━━━━━━\u001b[0m\u001b[37m\u001b[0m \u001b[1m3s\u001b[0m 18ms/step - accuracy: 0.8923 - loss: 0.3798 - val_accuracy: 0.6461 - val_loss: 3.2660\n",
      "Epoch 10/30\n",
      "\u001b[1m160/160\u001b[0m \u001b[32m━━━━━━━━━━━━━━━━━━━━\u001b[0m\u001b[37m\u001b[0m \u001b[1m3s\u001b[0m 17ms/step - accuracy: 0.9100 - loss: 0.3337 - val_accuracy: 0.6532 - val_loss: 3.3115\n",
      "Epoch 11/30\n",
      "\u001b[1m160/160\u001b[0m \u001b[32m━━━━━━━━━━━━━━━━━━━━\u001b[0m\u001b[37m\u001b[0m \u001b[1m3s\u001b[0m 17ms/step - accuracy: 0.9263 - loss: 0.2835 - val_accuracy: 0.6532 - val_loss: 3.3989\n",
      "Epoch 12/30\n",
      "\u001b[1m160/160\u001b[0m \u001b[32m━━━━━━━━━━━━━━━━━━━━\u001b[0m\u001b[37m\u001b[0m \u001b[1m3s\u001b[0m 17ms/step - accuracy: 0.9320 - loss: 0.2656 - val_accuracy: 0.6590 - val_loss: 3.3760\n",
      "Epoch 13/30\n",
      "\u001b[1m160/160\u001b[0m \u001b[32m━━━━━━━━━━━━━━━━━━━━\u001b[0m\u001b[37m\u001b[0m \u001b[1m3s\u001b[0m 17ms/step - accuracy: 0.9468 - loss: 0.2232 - val_accuracy: 0.6459 - val_loss: 3.5896\n",
      "Epoch 14/30\n",
      "\u001b[1m160/160\u001b[0m \u001b[32m━━━━━━━━━━━━━━━━━━━━\u001b[0m\u001b[37m\u001b[0m \u001b[1m3s\u001b[0m 17ms/step - accuracy: 0.9348 - loss: 0.2477 - val_accuracy: 0.6580 - val_loss: 3.5333\n",
      "Epoch 15/30\n",
      "\u001b[1m160/160\u001b[0m \u001b[32m━━━━━━━━━━━━━━━━━━━━\u001b[0m\u001b[37m\u001b[0m \u001b[1m3s\u001b[0m 17ms/step - accuracy: 0.9493 - loss: 0.2109 - val_accuracy: 0.6580 - val_loss: 3.5484\n",
      "Epoch 16/30\n",
      "\u001b[1m160/160\u001b[0m \u001b[32m━━━━━━━━━━━━━━━━━━━━\u001b[0m\u001b[37m\u001b[0m \u001b[1m3s\u001b[0m 17ms/step - accuracy: 0.9543 - loss: 0.1899 - val_accuracy: 0.6629 - val_loss: 3.6394\n",
      "Epoch 17/30\n",
      "\u001b[1m160/160\u001b[0m \u001b[32m━━━━━━━━━━━━━━━━━━━━\u001b[0m\u001b[37m\u001b[0m \u001b[1m3s\u001b[0m 17ms/step - accuracy: 0.9506 - loss: 0.1989 - val_accuracy: 0.6585 - val_loss: 3.6944\n",
      "Epoch 18/30\n",
      "\u001b[1m160/160\u001b[0m \u001b[32m━━━━━━━━━━━━━━━━━━━━\u001b[0m\u001b[37m\u001b[0m \u001b[1m3s\u001b[0m 17ms/step - accuracy: 0.9592 - loss: 0.1710 - val_accuracy: 0.6537 - val_loss: 3.7979\n",
      "Epoch 19/30\n",
      "\u001b[1m160/160\u001b[0m \u001b[32m━━━━━━━━━━━━━━━━━━━━\u001b[0m\u001b[37m\u001b[0m \u001b[1m3s\u001b[0m 17ms/step - accuracy: 0.9545 - loss: 0.1816 - val_accuracy: 0.6480 - val_loss: 3.8682\n",
      "Epoch 20/30\n",
      "\u001b[1m160/160\u001b[0m \u001b[32m━━━━━━━━━━━━━━━━━━━━\u001b[0m\u001b[37m\u001b[0m \u001b[1m3s\u001b[0m 17ms/step - accuracy: 0.9428 - loss: 0.2126 - val_accuracy: 0.6548 - val_loss: 3.8320\n",
      "Epoch 21/30\n",
      "\u001b[1m160/160\u001b[0m \u001b[32m━━━━━━━━━━━━━━━━━━━━\u001b[0m\u001b[37m\u001b[0m \u001b[1m3s\u001b[0m 17ms/step - accuracy: 0.9485 - loss: 0.1881 - val_accuracy: 0.6610 - val_loss: 3.8230\n",
      "Epoch 22/30\n",
      "\u001b[1m160/160\u001b[0m \u001b[32m━━━━━━━━━━━━━━━━━━━━\u001b[0m\u001b[37m\u001b[0m \u001b[1m3s\u001b[0m 18ms/step - accuracy: 0.9450 - loss: 0.1886 - val_accuracy: 0.6683 - val_loss: 3.7863\n",
      "Epoch 23/30\n",
      "\u001b[1m160/160\u001b[0m \u001b[32m━━━━━━━━━━━━━━━━━━━━\u001b[0m\u001b[37m\u001b[0m \u001b[1m3s\u001b[0m 18ms/step - accuracy: 0.9682 - loss: 0.1311 - val_accuracy: 0.6619 - val_loss: 3.9499\n",
      "Epoch 24/30\n",
      "\u001b[1m160/160\u001b[0m \u001b[32m━━━━━━━━━━━━━━━━━━━━\u001b[0m\u001b[37m\u001b[0m \u001b[1m3s\u001b[0m 17ms/step - accuracy: 0.9682 - loss: 0.1305 - val_accuracy: 0.6645 - val_loss: 3.9651\n",
      "Epoch 25/30\n",
      "\u001b[1m160/160\u001b[0m \u001b[32m━━━━━━━━━━━━━━━━━━━━\u001b[0m\u001b[37m\u001b[0m \u001b[1m3s\u001b[0m 17ms/step - accuracy: 0.9689 - loss: 0.1239 - val_accuracy: 0.6706 - val_loss: 3.9288\n",
      "Epoch 26/30\n",
      "\u001b[1m160/160\u001b[0m \u001b[32m━━━━━━━━━━━━━━━━━━━━\u001b[0m\u001b[37m\u001b[0m \u001b[1m3s\u001b[0m 17ms/step - accuracy: 0.9768 - loss: 0.1016 - val_accuracy: 0.6699 - val_loss: 3.9950\n",
      "Epoch 27/30\n",
      "\u001b[1m160/160\u001b[0m \u001b[32m━━━━━━━━━━━━━━━━━━━━\u001b[0m\u001b[37m\u001b[0m \u001b[1m3s\u001b[0m 17ms/step - accuracy: 0.9794 - loss: 0.0912 - val_accuracy: 0.6672 - val_loss: 4.0433\n",
      "Epoch 28/30\n",
      "\u001b[1m160/160\u001b[0m \u001b[32m━━━━━━━━━━━━━━━━━━━━\u001b[0m\u001b[37m\u001b[0m \u001b[1m3s\u001b[0m 17ms/step - accuracy: 0.9652 - loss: 0.1295 - val_accuracy: 0.6590 - val_loss: 4.0884\n",
      "Epoch 29/30\n",
      "\u001b[1m160/160\u001b[0m \u001b[32m━━━━━━━━━━━━━━━━━━━━\u001b[0m\u001b[37m\u001b[0m \u001b[1m3s\u001b[0m 18ms/step - accuracy: 0.9636 - loss: 0.1360 - val_accuracy: 0.6670 - val_loss: 3.9788\n",
      "Epoch 30/30\n",
      "\u001b[1m160/160\u001b[0m \u001b[32m━━━━━━━━━━━━━━━━━━━━\u001b[0m\u001b[37m\u001b[0m \u001b[1m3s\u001b[0m 17ms/step - accuracy: 0.9720 - loss: 0.1164 - val_accuracy: 0.6702 - val_loss: 4.0192\n",
      "\u001b[1m137/137\u001b[0m \u001b[32m━━━━━━━━━━━━━━━━━━━━\u001b[0m\u001b[37m\u001b[0m \u001b[1m1s\u001b[0m 5ms/step - accuracy: 0.6689 - loss: 4.1318\n",
      "Accuracy en test: 67.02%\n"
     ]
    }
   ],
   "source": [
    "#Entrenar modelo\n",
    "model.fit(X_train, y_train, validation_data=(X_test, y_test), epochs=30, batch_size=64)\n",
    "\n",
    "#Evaluar modelo\n",
    "loss, accuracy = model.evaluate(X_test, y_test)\n",
    "print(f\"Accuracy en test: {accuracy:.2%}\")"
   ]
  }
 ],
 "metadata": {
  "kernelspec": {
   "display_name": ".venv",
   "language": "python",
   "name": "python3"
  },
  "language_info": {
   "codemirror_mode": {
    "name": "ipython",
    "version": 3
   },
   "file_extension": ".py",
   "mimetype": "text/x-python",
   "name": "python",
   "nbconvert_exporter": "python",
   "pygments_lexer": "ipython3",
   "version": "3.12.10"
  }
 },
 "nbformat": 4,
 "nbformat_minor": 2
}
